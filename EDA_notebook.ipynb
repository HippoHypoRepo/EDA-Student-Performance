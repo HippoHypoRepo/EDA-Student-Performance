{
 "cells": [
  {
   "cell_type": "markdown",
   "id": "3332996d-dc8e-45a9-b221-5676e78f641b",
   "metadata": {},
   "source": [
    "# Exploratory Data Analysis (EDA): Student Performance Dataset\n",
    "\n",
    "## Introduction\n",
    "\n",
    "In this notebook, we will perform an Exploratory Data Analysis (EDA) on a dataset that captures various factors influencing student performance. The dataset includes attributes such as:\n",
    "\n",
    "* **Gender**\n",
    "* **Race/Ethnicity**\n",
    "* **Parental Level of Education**\n",
    "* **Lunch Type**\n",
    "* **Test Preparation Course**\n",
    "* **Scores in Math, Reading, and Writing**\n",
    "\n",
    "The goal of this analysis is to examine how demographic and socioeconomic factors such as gender, race/ethnicity, parental education, lunch type, and test preparation might relate to student performance in math, reading, and writing. By identifying patterns and potential correlations, this EDA aims to provide insights that could possibly inform strategies to better support diverse student groups and improve academic outcomes.\n",
    "\n",
    "The dataset used in this analysis is publicly available on Kaggle and can be accessed [here](https://www.kaggle.com/datasets/rkiattisak/student-performance-in-mathematics/data).\n",
    "\n",
    "---\n",
    "## Step 1: Importing Required Libraries"
   ]
  },
  {
   "cell_type": "code",
   "execution_count": null,
   "id": "371b1304-aaf4-4e3c-bc88-9d330cbe5590",
   "metadata": {},
   "outputs": [],
   "source": [
    "# Data manipulation and analysis\n",
    "import pandas as pd\n",
    "import numpy as np\n",
    "\n",
    "# Data visualization\n",
    "import matplotlib.pyplot as plt\n",
    "import seaborn as sns\n",
    "\n",
    "# Configure visualization settings\n",
    "sns.set(style=\"whitegrid\")\n",
    "plt.style.use('seaborn-v0_8-muted')\n",
    "\n",
    "# Display settings for DataFrame outputs\n",
    "pd.set_option('display.max_columns', None)"
   ]
  },
  {
   "cell_type": "markdown",
   "id": "1e971ea3-3b38-4613-a63d-df148485900f",
   "metadata": {},
   "source": [
    "\n",
    "---\n",
    "## Step 2: Loading the Dataset"
   ]
  },
  {
   "cell_type": "code",
   "execution_count": null,
   "id": "5b812d35-3736-40e7-9dba-00097c85d10a",
   "metadata": {},
   "outputs": [],
   "source": [
    "# Load the dataset from a CSV file\n",
    "df = pd.read_csv(\"exams.csv\")  # Make sure the file path is correct\n",
    "\n",
    "# Set the index to start from 1\n",
    "df.index = df.index + 1\n",
    "\n",
    "# Display the first few records\n",
    "df.head()"
   ]
  },
  {
   "cell_type": "markdown",
   "id": "4085d0ab-7d56-4fd0-beaf-290014f07c4a",
   "metadata": {},
   "source": [
    "---\n",
    "## Step 3: Checking for Missing Values\n",
    "\n",
    "Before diving into analysis, it's important to check if the dataset contains any missing values. Missing data can skew results and must be handled appropriately.\n",
    "\n",
    "In this dataset, we'll verify whether any null or missing values are present.\n"
   ]
  },
  {
   "cell_type": "code",
   "execution_count": null,
   "id": "4763dafa-7763-4ad6-9f81-23bf032d65fd",
   "metadata": {},
   "outputs": [],
   "source": [
    "# Check for missing values in each column\n",
    "df.isnull().sum()"
   ]
  },
  {
   "cell_type": "markdown",
   "id": "3558e290-65a0-4f1c-8785-f8abf1ff7046",
   "metadata": {},
   "source": [
    "**Result**: There are no missing values in the dataset. This ensures a smooth analysis process without the need for imputation or data cleaning in this regard.\n"
   ]
  },
  {
   "cell_type": "markdown",
   "id": "91e214c5-dd3c-4990-914a-108fb4fa67aa",
   "metadata": {},
   "source": [
    "---\n",
    "## Step 4: Analyzing the Distribution of Scores\n",
    "\n",
    "Now that we know the dataset is clean and complete, we can begin our exploratory data analysis.\n",
    "\n",
    "### Step 4.1 Distribution of Student Scores by Subject\n",
    "In this step, we'll visualize the distribution of student performance across the three academic subjects: **Math**, **Reading**, and **Writing**. \n",
    "\n",
    "We'll use a **violin plot** to show the distribution of scores for each subject. This type of plot combines a box plot with a kernel density estimate (KDE), making it easier to understand the data's shape, central tendency, and variability.\n"
   ]
  },
  {
   "cell_type": "code",
   "execution_count": null,
   "id": "a616ab4d-7dc6-4a9b-952a-57ed5cc8239a",
   "metadata": {},
   "outputs": [],
   "source": [
    "# Melt the data to long format for easier plotting\n",
    "score_data = df[[\"math score\", \"reading score\", \"writing score\"]].melt(\n",
    "    var_name=\"Subject\", value_name=\"Score\"\n",
    ")\n",
    "\n",
    "# Rename subject values for better display\n",
    "score_data[\"Subject\"] = score_data[\"Subject\"].map({\n",
    "    \"math score\": \"Math\",\n",
    "    \"reading score\": \"Reading\",\n",
    "    \"writing score\": \"Writing\"\n",
    "})\n",
    "\n",
    "# Create the violin plot with palette and hue\n",
    "plt.figure(figsize=(6, 4))\n",
    "sns.violinplot(data=score_data, x=\"Subject\", y=\"Score\", hue=\"Subject\", palette=\"muted\", legend=False)\n",
    "\n",
    "# Customize the plot\n",
    "plt.title(\"Distribution of Student Scores by Subject\", fontsize=14)\n",
    "plt.xlabel(\"Subject\")\n",
    "plt.ylabel(\"Score\")\n",
    "plt.ylim(0, 110)\n",
    "plt.yticks(range(0, 111, 10))  # Set y-axis ticks in increments of 10\n",
    "plt.tight_layout()\n",
    "plt.show()"
   ]
  },
  {
   "cell_type": "markdown",
   "id": "1c54f191-1e15-4c1c-b4d9-03f539fe9d6e",
   "metadata": {},
   "source": [
    " "
   ]
  },
  {
   "cell_type": "markdown",
   "id": "83d24519-9309-4859-b8cc-b98604f5db90",
   "metadata": {},
   "source": [
    "### Step 4.2: Grades Distribution Across Male and Female Students\n",
    "\n",
    "From the previous section, we observed that the score distributions in **Math**, **Reading**, and **Writing** are relatively balanced. To simplify further analysis, we will combine the three scores into a single **average grade** for each student. This average will be used as a unified performance metric in subsequent visualizations.\n",
    "\n",
    "In this section, we aim to examine how student performance, represented by the average grade, differs between **male and female** students.\n",
    "\n",
    "We'll begin by visualizing the **gender distribution** in the dataset, followed by a **box plot** that compares the average grades between male and female students.\n"
   ]
  },
  {
   "cell_type": "code",
   "execution_count": null,
   "id": "d0af87a7-02be-4a7b-8351-9cd8dd4c859b",
   "metadata": {},
   "outputs": [],
   "source": [
    "import matplotlib.pyplot as plt\n",
    "import seaborn as sns\n",
    "\n",
    "# Capitalize gender values\n",
    "df[\"gender\"] = df[\"gender\"].str.capitalize()\n",
    "\n",
    "# Create average score column\n",
    "df[\"average score\"] = df[[\"math score\", \"reading score\", \"writing score\"]].mean(axis=1)\n",
    "\n",
    "# Prepare gender counts\n",
    "gender_counts = df[\"gender\"].value_counts()\n",
    "\n",
    "# Create a figure with 3 subplots side by side\n",
    "fig, axs = plt.subplots(1, 3, figsize=(10, 4))\n",
    "\n",
    "# 1. Pie chart\n",
    "axs[0].pie(\n",
    "    gender_counts,\n",
    "    labels=gender_counts.index,\n",
    "    autopct='%1.1f%%',\n",
    "    startangle=90,\n",
    "    colors=sns.color_palette(\"pastel\")\n",
    ")\n",
    "axs[0].set_title(\"Gender Distribution (Pie Chart)\")\n",
    "axs[0].axis('equal')\n",
    "\n",
    "# 2. Bar chart (no palette to avoid warning)\n",
    "sns.barplot(x=gender_counts.index, y=gender_counts.values, ax=axs[1])\n",
    "axs[1].set_title(\"Gender Distribution (Bar Chart)\")\n",
    "axs[1].set_xlabel(\"Gender\")\n",
    "axs[1].set_ylabel(\"Count\")\n",
    "\n",
    "# 3. Box plot with hue assigned, palette, and no legend\n",
    "sns.boxplot(\n",
    "    data=df, x=\"gender\", y=\"average score\",\n",
    "    hue=\"gender\", palette=\"Set2\", legend=False,\n",
    "    ax=axs[2]\n",
    ")\n",
    "axs[2].set_title(\"Average Grade Distribution by Gender\")\n",
    "axs[2].set_xlabel(\"Gender\")\n",
    "axs[2].set_ylabel(\"Average Score\")\n",
    "axs[2].set_ylim(0, 110)\n",
    "axs[2].set_yticks(range(0, 111, 10))\n",
    "\n",
    "plt.tight_layout()\n",
    "plt.show()\n",
    "\n",
    "# Calculate average scores by gender\n",
    "avg_female = df.loc[df[\"gender\"] == \"Female\", \"average score\"].mean()\n",
    "avg_male = df.loc[df[\"gender\"] == \"Male\", \"average score\"].mean()\n",
    "\n",
    "# Print formatted averages with tabs for alignment\n",
    "print(f\"Female Students Average :\\t{avg_female:.2f}\")\n",
    "print(f\"Male Students Average   :\\t{avg_male:.2f}\")"
   ]
  },
  {
   "cell_type": "markdown",
   "id": "6cf35ae1-1e49-40bb-8bb3-c421b209f85d",
   "metadata": {},
   "source": [
    "  "
   ]
  },
  {
   "cell_type": "markdown",
   "id": "c46949d5-2d8d-4ce9-b244-24fab75b7f2d",
   "metadata": {},
   "source": [
    "From the above visualizations, we observe that the student population is almost evenly split, with **males** representing about **50.8%** and **females** **49.2%**, differing by only **12 students**. Despite this near parity, **female** students outperform males slightly, with an average score approximately **3 points** higher (**70.56** vs. **67.70**). This suggests that while the gender distribution is balanced, **female** students tend to achieve marginally better academic results in this dataset."
   ]
  },
  {
   "cell_type": "markdown",
   "id": "92f5a8ad-52e5-4c7e-a384-18672d80e53a",
   "metadata": {},
   "source": [
    " "
   ]
  },
  {
   "cell_type": "markdown",
   "id": "eaeabe93-3518-43ad-8ba2-66c56813c869",
   "metadata": {},
   "source": [
    "### Step 4.3: Grades Distribution Based on Student Demographic Profile\n",
    "\n",
    "In this section, we explore how student performance varies across different **demographic categories**, focusing on:\n",
    "\n",
    "- **Race/Ethnicity**\n",
    "- **Parental Level of Education**\n",
    "\n",
    "We begin by visualizing the distribution of students across these two demographic factors using pie charts. This gives us insight into the overall makeup of the dataset. Then, we analyze how average grades vary within these groups.\n",
    "\n",
    "- For **race/ethnicity**, we use a **violin plot** to visualize the distribution and spread of grades within each group.\n",
    "- For **parental level of education**, we use a **bar plot** to compare the **mean average score**, with **error bars representing the standard deviation (SD)**.\n"
   ]
  },
  {
   "cell_type": "code",
   "execution_count": null,
   "id": "51878c85-9589-4e6d-aed3-f8ab6df1f2b0",
   "metadata": {},
   "outputs": [],
   "source": [
    "# Calculate average scores\n",
    "df[\"average score\"] = df[[\"math score\", \"reading score\", \"writing score\"]].mean(axis=1)\n",
    "\n",
    "# Category ordering\n",
    "edu_order = [\n",
    "    \"some high school\", \"high school\", \"some college\",\n",
    "    \"associate's degree\", \"bachelor's degree\", \"master's degree\"\n",
    "]\n",
    "\n",
    "# Capitalize categories\n",
    "df[\"race/ethnicity\"] = df[\"race/ethnicity\"].str.title()\n",
    "df[\"parental level of education\"] = df[\"parental level of education\"].str.lower()\n",
    "\n",
    "# Get value counts\n",
    "race_counts = df[\"race/ethnicity\"].value_counts()\n",
    "edu_counts = df[\"parental level of education\"].value_counts().reindex(edu_order)\n",
    "\n",
    "# Side-by-side pie charts\n",
    "fig, axs = plt.subplots(1, 2, figsize=(14, 6))\n",
    "\n",
    "# Pie chart for race/ethnicity\n",
    "axs[0].pie(\n",
    "    race_counts,\n",
    "    labels=race_counts.index,\n",
    "    autopct='%1.1f%%',\n",
    "    startangle=90,\n",
    "    colors=sns.color_palette(\"pastel\")\n",
    ")\n",
    "axs[0].set_title(\"Distribution by Race/Ethnicity\")\n",
    "axs[0].axis('equal')\n",
    "\n",
    "# Pie chart for parental education\n",
    "axs[1].pie(\n",
    "    edu_counts,\n",
    "    labels=edu_counts.index,\n",
    "    autopct='%1.1f%%',\n",
    "    startangle=90,\n",
    "    colors=sns.color_palette(\"pastel\")\n",
    ")\n",
    "axs[1].set_title(\"Distribution by Parental Level of Education\")\n",
    "axs[1].axis('equal')\n",
    "\n",
    "plt.tight_layout()\n",
    "plt.show()"
   ]
  },
  {
   "cell_type": "code",
   "execution_count": null,
   "id": "f107a141-3f64-4677-b1dd-1ccf3f2c6191",
   "metadata": {},
   "outputs": [],
   "source": [
    "# Define the order\n",
    "race_order = [\"Group A\", \"Group B\", \"Group C\", \"Group D\", \"Group E\"]\n",
    "\n",
    "plt.figure(figsize=(10, 6))\n",
    "sns.violinplot(\n",
    "    data=df,\n",
    "    x=\"race/ethnicity\",\n",
    "    y=\"average score\",\n",
    "    hue=\"race/ethnicity\",\n",
    "    order=race_order,          # Force alphabetical order\n",
    "    palette=\"muted\",\n",
    "    legend=False\n",
    ")\n",
    "\n",
    "plt.title(\"Grade Distribution by Race/Ethnicity\", fontsize=14)\n",
    "plt.xlabel(\"Race/Ethnicity\")\n",
    "plt.ylabel(\"Average Score\")\n",
    "plt.ylim(0, 110)\n",
    "plt.yticks(range(0, 111, 10))\n",
    "plt.tight_layout()\n",
    "plt.show()"
   ]
  },
  {
   "cell_type": "code",
   "execution_count": null,
   "id": "236ca73e-b587-46ca-9965-5cfae8f3f4c9",
   "metadata": {},
   "outputs": [],
   "source": [
    "# Bar plot with Seaborn's built-in error bars\n",
    "plt.figure(figsize=(12, 6))\n",
    "df[\"education_group\"] = df[\"parental level of education\"]  # duplicate column for hue\n",
    "\n",
    "sns.barplot(\n",
    "    data=df,\n",
    "    x=\"parental level of education\",\n",
    "    y=\"average score\",\n",
    "    hue=\"education_group\",\n",
    "    order=edu_order,\n",
    "    errorbar=\"sd\",\n",
    "    palette=\"Blues_d\",\n",
    "    legend=False\n",
    ")\n",
    "\n",
    "\n",
    "plt.title(\"Average Grade by Parental Education Level (Mean ± SD)\", fontsize=14)\n",
    "plt.xlabel(\"Parental Level of Education\")\n",
    "plt.ylabel(\"Average Score\")\n",
    "plt.xticks(rotation=15)\n",
    "plt.ylim(0, 110)\n",
    "plt.yticks(range(0, 111, 10))\n",
    "plt.tight_layout()\n",
    "plt.show()"
   ]
  },
  {
   "cell_type": "markdown",
   "id": "59919a57-0b5a-4397-a9a5-e728f3e41be9",
   "metadata": {},
   "source": [
    " "
   ]
  },
  {
   "cell_type": "markdown",
   "id": "fba9cd7e-87c2-415c-a70b-a254b4fb422c",
   "metadata": {},
   "source": [
    "From the visualizations above, we observe that **Group C** represents the largest racial/ethnic category in the dataset, comprising **32.3%** of the students. In terms of parental education, approximately **39.2%** of students have parents who did not pursue education beyond high school, which includes those with only a high school diploma or less.\n",
    "\n",
    "Among the race/ethnicity groups, **Group E** recorded the highest average performance. Additionally, students whose parents have pursued higher education starting from **some college** and above, tend to score higher on average than those whose parents did not. This trend suggests a positive correlation between parental educational attainment and student academic performance."
   ]
  },
  {
   "cell_type": "markdown",
   "id": "dec25994-c6eb-4c78-bde0-1fe23ebaf00c",
   "metadata": {},
   "source": [
    " "
   ]
  },
  {
   "cell_type": "markdown",
   "id": "cbbe36f4-4f27-4d11-ac31-1b31cf3f7045",
   "metadata": {},
   "source": [
    "### Step 4.4: Grades Distribution Based on Learning Condition\n",
    "\n",
    "In this section, we investigate how students’ academic performance is influenced by **learning condition factors**, specifically:\n",
    "\n",
    "- **Lunch type**, which serves as a socioeconomic indicator\n",
    "- **Test preparation course**, indicating whether students received formal prep before exams\n",
    "\n",
    "We begin by visualizing the **distribution** of students across these two categories using pie charts. Then, we analyze their **average scores** using:\n",
    "\n",
    "- A **swarm plot** for lunch type\n",
    "- A **boxen plot** for test preparation status\n",
    "\n",
    "Both variables are binary and help us understand how access to resources and preparation impacts student achievement.\n"
   ]
  },
  {
   "cell_type": "code",
   "execution_count": null,
   "id": "b5b6832c-aa2d-4424-aa09-5ba007723068",
   "metadata": {},
   "outputs": [],
   "source": [
    "# Clean and capitalize\n",
    "df[\"lunch\"] = df[\"lunch\"].str.capitalize()\n",
    "df[\"test preparation course\"] = df[\"test preparation course\"].str.capitalize()\n",
    "\n",
    "# Value counts\n",
    "lunch_counts = df[\"lunch\"].value_counts()\n",
    "prep_counts = df[\"test preparation course\"].value_counts()\n",
    "\n",
    "# Side-by-side pie charts\n",
    "fig, axs = plt.subplots(1, 2, figsize=(10, 6))\n",
    "\n",
    "# Pie chart for lunch type\n",
    "axs[0].pie(\n",
    "    lunch_counts,\n",
    "    labels=lunch_counts.index,\n",
    "    autopct='%1.1f%%',\n",
    "    startangle=90,\n",
    "    colors=sns.color_palette(\"pastel\")\n",
    ")\n",
    "axs[0].set_title(\"Distribution by Lunch Type\")\n",
    "axs[0].axis('equal')\n",
    "\n",
    "# Pie chart for test preparation course\n",
    "axs[1].pie(\n",
    "    prep_counts,\n",
    "    labels=prep_counts.index,\n",
    "    autopct='%1.1f%%',\n",
    "    startangle=90,\n",
    "    colors=sns.color_palette(\"pastel\")\n",
    ")\n",
    "axs[1].set_title(\"Distribution by Test Preparation Course\")\n",
    "axs[1].axis('equal')\n",
    "\n",
    "plt.tight_layout()\n",
    "plt.show()"
   ]
  },
  {
   "cell_type": "code",
   "execution_count": null,
   "id": "365b16e2-85b5-42af-8e71-e8686c04b755",
   "metadata": {},
   "outputs": [],
   "source": [
    "plt.figure(figsize=(10, 6))\n",
    "sns.swarmplot(\n",
    "    data=df,\n",
    "    x=\"lunch\",\n",
    "    y=\"average score\",\n",
    "    hue=\"lunch\",             # To safely use palette\n",
    "    palette=\"Set2\",\n",
    "    legend=False\n",
    ")\n",
    "\n",
    "plt.title(\"Grade Distribution by Lunch Type\", fontsize=14)\n",
    "plt.xlabel(\"Lunch Type\")\n",
    "plt.ylabel(\"Average Score\")\n",
    "plt.ylim(0, 110)\n",
    "plt.yticks(range(0, 111, 10))\n",
    "plt.tight_layout()\n",
    "plt.show()"
   ]
  },
  {
   "cell_type": "code",
   "execution_count": null,
   "id": "c4c6182c-f280-460f-a417-6455157dcb13",
   "metadata": {},
   "outputs": [],
   "source": [
    "plt.figure(figsize=(10, 6))\n",
    "sns.boxenplot(\n",
    "    data=df,\n",
    "    x=\"test preparation course\",\n",
    "    y=\"average score\",\n",
    "    hue=\"test preparation course\",\n",
    "    palette=\"Set3\",\n",
    "    legend=False\n",
    ")\n",
    "\n",
    "plt.title(\"Grade Distribution by Test Preparation Status\", fontsize=14)\n",
    "plt.xlabel(\"Test Preparation Course\")\n",
    "plt.ylabel(\"Average Score\")\n",
    "plt.ylim(0, 110)\n",
    "plt.yticks(range(0, 111, 10))\n",
    "plt.tight_layout()\n",
    "plt.show()"
   ]
  },
  {
   "cell_type": "markdown",
   "id": "295484c5-b32f-4060-a57a-ef16c010d930",
   "metadata": {},
   "source": [
    " "
   ]
  },
  {
   "cell_type": "markdown",
   "id": "24c9450f-b257-4ca8-91db-d16f170da85e",
   "metadata": {},
   "source": [
    "From the analysis above, we observe that students who **completed a test preparation course** tend to score **noticeably higher** than those who did not. Interestingly, students who receive **standard-priced lunch** also tend to achieve **higher average scores** compared to those receiving free or reduced lunch, highlighting an **unexpected association** between lunch program status and academic performance.\n",
    "\n",
    "In terms of distribution, around **two-thirds of the students** fall into the category of having **standard lunch** and having **not completed** a test preparation course. This suggests that while formal preparation and lunch program status may both positively influence academic outcomes, a significant portion of students do not benefit from both simultaneously."
   ]
  },
  {
   "cell_type": "markdown",
   "id": "985bca17-809f-40d6-a3f6-8405efe0fa89",
   "metadata": {},
   "source": [
    "## Conclusion"
   ]
  },
  {
   "cell_type": "markdown",
   "id": "cb19caaa-ccc1-4d8b-b252-4595a585ecd7",
   "metadata": {},
   "source": [
    "Through this exploratory analysis, we gained a clearer understanding of how various demographic and socioeconomic factors relate to student academic performance. Key observations include:\n",
    "\n",
    "* **Gender differences** are subtle but present, with female students slightly outperforming male students on average.\n",
    "* **Race/ethnicity** and **parental level of education** appear to influence academic outcomes, with students from Group E and those whose parents attained higher education levels generally performing better.\n",
    "* **Test preparation courses** and **standard lunch status** are associated with higher average scores, suggesting that both academic support and socioeconomic conditions may impact performance.\n",
    "\n",
    "These findings highlight areas worth further investigation, such as the potential causal links between parental education, economic background, and student achievement. Future steps could include building predictive models or conducting more targeted analysis to guide educational interventions."
   ]
  },
  {
   "cell_type": "markdown",
   "id": "bc7d147b-c41a-49d8-8024-2f940a89985b",
   "metadata": {},
   "source": [
    "## References\n",
    "*Student performance prediction*. Kaggle. Available at: https://www.kaggle.com/datasets/rkiattisak/student-performance-in-mathematics/data"
   ]
  }
 ],
 "metadata": {
  "kernelspec": {
   "display_name": "Python [conda env:base] *",
   "language": "python",
   "name": "conda-base-py"
  },
  "language_info": {
   "codemirror_mode": {
    "name": "ipython",
    "version": 3
   },
   "file_extension": ".py",
   "mimetype": "text/x-python",
   "name": "python",
   "nbconvert_exporter": "python",
   "pygments_lexer": "ipython3",
   "version": "3.12.7"
  }
 },
 "nbformat": 4,
 "nbformat_minor": 5
}
